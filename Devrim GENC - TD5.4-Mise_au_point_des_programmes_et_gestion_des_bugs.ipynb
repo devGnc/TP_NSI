{
  "metadata": {
    "colab": {
      "provenance": []
    },
    "kernelspec": {
      "name": "python",
      "display_name": "Python (Pyodide)",
      "language": "python"
    },
    "language_info": {
      "codemirror_mode": {
        "name": "python",
        "version": 3
      },
      "file_extension": ".py",
      "mimetype": "text/x-python",
      "name": "python",
      "nbconvert_exporter": "python",
      "pygments_lexer": "ipython3",
      "version": "3.8"
    }
  },
  "nbformat_minor": 4,
  "nbformat": 4,
  "cells": [
    {
      "cell_type": "markdown",
      "source": " <p align =center> <img src=\"https://github.com/esabahi/NSI_Images/blob/main/NSI-Image.png?raw=true\" width=350>\n    </p>",
      "metadata": {
        "id": "9w6gqUk23GWS"
      }
    },
    {
      "cell_type": "markdown",
      "source": "<h1 style=\"font-size: 30px; text-align: center\">TD5.4-Mise au point des programmes et gestion des bugs\n\n---\n\n# 🟥 Documenter son programme\n\n## 🐍 Exercice 1\n\n**Q1** : Donnez un meilleur nom et une chaîne de documentation à la fonction suivante.\n\n```python\ndef f(a, b):\n    return a + b\n```",
      "metadata": {
        "id": "GlWSTcNftLXO"
      }
    },
    {
      "cell_type": "code",
      "source": "# à vous de jouer !\ndef somme(a, b):\n    \"\"\"\n    calcule la somme de deux entiers en entrée \n    \"\"\"\n    return a + b\n\n",
      "metadata": {
        "id": "DVHmN_5CtLXS",
        "trusted": true
      },
      "execution_count": 8,
      "outputs": []
    },
    {
      "cell_type": "markdown",
      "source": "**Q2** : Utilisez la fonction `help` pour accéder à la chaîne de documentation de cette fonction.",
      "metadata": {
        "id": "QkCK4yBztLXU"
      }
    },
    {
      "cell_type": "code",
      "source": "help(somme)",
      "metadata": {
        "id": "xbFb6lyBtLXU",
        "trusted": true
      },
      "execution_count": 9,
      "outputs": [
        {
          "name": "stdout",
          "text": "Help on function somme in module __main__:\n\nsomme(a, b)\n    calcule la somme de deux entiers en entrée\n\n",
          "output_type": "stream"
        }
      ]
    },
    {
      "cell_type": "markdown",
      "source": "## 🐍 Exercice 2\n\n**Q1** : Donnez un meilleur nom et une chaîne de documentation à la fonction suivante, le paramètre `t` étant un tableau.\n\n```python\ndef mystere(t):\n    s = 0\n    for i in range(len(t)):\n        s = s + t[i]\n    return s / n\n```",
      "metadata": {
        "id": "nx5ge4bAtLXV"
      }
    },
    {
      "cell_type": "code",
      "source": "# à vous de jouer !\n\ndef moyenne(t):\n    \"\"\"\n    calculer la moyenne d'une liste de valeurs entrée\n    \"\"\"\n    s = 0\n    n = len(t)\n    for i in range(n):\n        s = s + t[i]\n    return s / n",
      "metadata": {
        "id": "il9m1YvEtLXV",
        "trusted": true
      },
      "execution_count": 16,
      "outputs": []
    },
    {
      "cell_type": "markdown",
      "source": "**Q2** : Utilisez la fonction `help` pour accéder à la chaîne de documentation de cette fonction.",
      "metadata": {
        "id": "G91FljqJtLXV"
      }
    },
    {
      "cell_type": "code",
      "source": "# à vous de jouer !\nhelp(moyenne)",
      "metadata": {
        "id": "pjFeagOatLXV",
        "trusted": true
      },
      "execution_count": 15,
      "outputs": [
        {
          "name": "stdout",
          "text": "Help on function moyenne in module __main__:\n\nmoyenne(t)\n    calculer la moyenne d'une liste de valeurs entrée\n\n",
          "output_type": "stream"
        }
      ]
    },
    {
      "cell_type": "markdown",
      "source": "# 🟥 Programmation défensive\n\n## 🐍 Exercice 3\n\nOn considère la fonction `indice_maxi_tab(T)` suivante. À l'aide de la construction `assert`, proposez un test vérifiant si la précondition sur le tableau `T` est validée (*on ne cherchera pas à écrire la fonction*).",
      "metadata": {
        "id": "KdSb9o6wtLXV"
      }
    },
    {
      "cell_type": "code",
      "source": "def indice_maxi_tab(T):\n    \"\"\"\n    Renvoie l'indice de la première occurence de la valeur\n    maximale du tableau T. T est supposé non vide.\n    \"\"\"\n    assert t != [] , \"le tableau doit être non vide\"\n",
      "metadata": {
        "id": "Klk3T4SJtLXW"
      },
      "execution_count": null,
      "outputs": []
    },
    {
      "cell_type": "markdown",
      "source": "## 🐍 Exercice 4\n\nOn considère la fonction `quotient(a, b)` suivante. À l'aide de la construction `assert`, proposez un test vérifiant si les préconditions sont validées.\n",
      "metadata": {
        "id": "NsHDXOfbtLXW"
      }
    },
    {
      "cell_type": "code",
      "source": "def quotient(a, b):\n    '''\n    Renvoie la valeur du quotient de a par b, b étant non nul.\n    '''\n    assert b != 0, \"b doit être non nul\"",
      "metadata": {
        "id": "NG5OBDXDtLXW"
      },
      "execution_count": null,
      "outputs": []
    },
    {
      "cell_type": "markdown",
      "source": "# 🟥 Tester ses programmes\n\n## 🐍 Exercice 5\n\n\n**Q1** : En utilisant `assert`, donnez un jeu de tests de qualité pour la fonction `multiplication` suivante.\n\n**Q2** : Vérifiez ensuite que les tests passent avec succès.",
      "metadata": {
        "id": "th-Kejq1tLXX"
      }
    },
    {
      "cell_type": "code",
      "source": "def multiplication(a, b):\n    '''\n    Renvoie le produit de a par b,\n    où a et b sont deux nombres quelconques.\n    '''\n    return a * b\n\n# jeu de tests à écrire ici\nassert  multiplication(2,0) == 0 \nassert multiplication(-2,-7) == 14  \nassert multiplication(0,0) == 0 \nassert multiplication(2,-2) == -4 \nassert multiplication(2,1.5) == 3 ",
      "metadata": {
        "id": "PFxJcBNotLXX",
        "trusted": true
      },
      "execution_count": 61,
      "outputs": []
    },
    {
      "cell_type": "markdown",
      "source": "## 🐍 Exercice 6\n\n\n**Q1** : En utilisant `assert`, donnez un jeu de tests de qualité pour la fonction `somme` suivante.\n\n**Q2** : Vérifiez ensuite que les tests passent avec succès.\n\n```python\ndef somme(t):\n    '''\n    Renvoie la somme des éléments du tableau t,\n    t étant un tableau de nombres\n    '''\n    s = 0\n    for i in range(len(t)):\n        s = s + t[i]\n    return s\n```",
      "metadata": {
        "id": "sXwgk7MBtLXX",
        "tags": []
      }
    },
    {
      "cell_type": "code",
      "source": "# à vous de jouer !\ndef somme(t):\n    '''\n    Renvoie la somme des éléments du tableau t,\n    t étant un tableau de nombres\n    '''\n    s = 0\n    for i in range(len(t)):\n        s = s + t[i]\n    return s\n\nassert somme([1,2,0])==3\nassert somme([0,0,0,0])==0 \nassert somme([-1,2,-3])==-2\nassert somme([1,-1,2,-2,3,-3])==0",
      "metadata": {
        "id": "aKd0ZiZ-tLXX",
        "trusted": true
      },
      "execution_count": 33,
      "outputs": []
    },
    {
      "cell_type": "markdown",
      "source": "## 🐍 Exercice 7\n\nOn cherche à écrire une fonction `est_croissant(t)` qui renvoie `True` si le tableau `t` est trié dans l'ordre croissant et `False` sinon.\n\n**Q1** : Complétez la fonction `tests_est_croissante` avec un jeu de tests de qualité pour la fonction `est_croissante` (*on ne cherchera pas à écrire le code de la fonction*).\n\n> <span style=\"font-size:1.5em\">📣</span> Ici, on écrit tous les tests dans une fonction, qu'il suffira d'appeler par la suite pour lancer les tests",
      "metadata": {
        "id": "9IAWq4P4tLXX"
      }
    },
    {
      "cell_type": "code",
      "source": "# à vous de jouer !\n\ndef tests_est_croissante():\n    \"\"\"\n    Fonction lançant des tests pour la fonction est_croissante\n    \"\"\"\n    # jeu de tests à écrire ici\n    assert est_croissante([1,2,3,4,5,6])==True \n    assert est_croissante([9,8,5,7,6,])== False\n    assert est_croissante([10,11,12,13,45])==True\n    assert est_croissante([-12,-7,0,1,7,2022])==True",
      "metadata": {
        "id": "Zq6KPO6XtLXY",
        "trusted": true
      },
      "execution_count": 34,
      "outputs": []
    },
    {
      "cell_type": "markdown",
      "source": "**Q2** : Un elève propose le code suivant pour la fonction `est_croissant(t)` de l'exercice précédent. Faites passer vos tests à cette fonction.\n",
      "metadata": {
        "id": "pWD0ioIvtLXY"
      }
    },
    {
      "cell_type": "code",
      "source": "def est_croissant(t):\n    \"\"\"\n    Renvoie True si le tableau t est trié dans l'ordre croissant,\n    et False sinon.\n    \"\"\"\n    for i in range(len(t)):\n        if t[i+1] > t[i]:\n            return False\n    return True\n\ndef tests_est_croissante():\n    \"\"\"\n    Fonction lançant des tests pour la fonction est_croissante\n    \"\"\"\n    # jeu de tests à écrire ici\n    assert est_croissant([1,2,3,4,5,6])==True \n    assert est_croissant([9,8,5,7,6])== False\n    assert est_croissant([10,11,12,13,45])==True\n    assert est_croissant([-12,-7,0,1,7,2022])==True\n    \ntests_est_croissante()",
      "metadata": {
        "id": "sIj1-GFktLXY",
        "trusted": true
      },
      "execution_count": 45,
      "outputs": [
        {
          "ename": "<class 'AssertionError'>",
          "evalue": "",
          "traceback": [
            "\u001b[0;31m---------------------------------------------------------------------------\u001b[0m",
            "\u001b[0;31mAssertionError\u001b[0m                            Traceback (most recent call last)",
            "Cell \u001b[0;32mIn[45], line 21\u001b[0m\n\u001b[1;32m     18\u001b[0m     \u001b[38;5;28;01massert\u001b[39;00m est_croissant([\u001b[38;5;241m10\u001b[39m,\u001b[38;5;241m11\u001b[39m,\u001b[38;5;241m12\u001b[39m,\u001b[38;5;241m13\u001b[39m,\u001b[38;5;241m45\u001b[39m])\u001b[38;5;241m==\u001b[39m\u001b[38;5;28;01mTrue\u001b[39;00m\n\u001b[1;32m     19\u001b[0m     \u001b[38;5;28;01massert\u001b[39;00m est_croissant([\u001b[38;5;241m-\u001b[39m\u001b[38;5;241m12\u001b[39m,\u001b[38;5;241m-\u001b[39m\u001b[38;5;241m7\u001b[39m,\u001b[38;5;241m0\u001b[39m,\u001b[38;5;241m1\u001b[39m,\u001b[38;5;241m7\u001b[39m,\u001b[38;5;241m2022\u001b[39m])\u001b[38;5;241m==\u001b[39m\u001b[38;5;28;01mTrue\u001b[39;00m\n\u001b[0;32m---> 21\u001b[0m \u001b[43mtests_est_croissante\u001b[49m\u001b[43m(\u001b[49m\u001b[43m)\u001b[49m\n",
            "Cell \u001b[0;32mIn[45], line 16\u001b[0m, in \u001b[0;36mtests_est_croissante\u001b[0;34m()\u001b[0m\n\u001b[1;32m     12\u001b[0m \u001b[38;5;250m\u001b[39m\u001b[38;5;124;03m\"\"\"\u001b[39;00m\n\u001b[1;32m     13\u001b[0m \u001b[38;5;124;03mFonction lançant des tests pour la fonction est_croissante\u001b[39;00m\n\u001b[1;32m     14\u001b[0m \u001b[38;5;124;03m\"\"\"\u001b[39;00m\n\u001b[1;32m     15\u001b[0m \u001b[38;5;66;03m# jeu de tests à écrire ici\u001b[39;00m\n\u001b[0;32m---> 16\u001b[0m \u001b[38;5;28;01massert\u001b[39;00m est_croissant([\u001b[38;5;241m1\u001b[39m,\u001b[38;5;241m2\u001b[39m,\u001b[38;5;241m3\u001b[39m,\u001b[38;5;241m4\u001b[39m,\u001b[38;5;241m5\u001b[39m,\u001b[38;5;241m6\u001b[39m])\u001b[38;5;241m==\u001b[39m\u001b[38;5;28;01mTrue\u001b[39;00m \n\u001b[1;32m     17\u001b[0m \u001b[38;5;28;01massert\u001b[39;00m est_croissant([\u001b[38;5;241m9\u001b[39m,\u001b[38;5;241m8\u001b[39m,\u001b[38;5;241m5\u001b[39m,\u001b[38;5;241m7\u001b[39m,\u001b[38;5;241m6\u001b[39m])\u001b[38;5;241m==\u001b[39m \u001b[38;5;28;01mFalse\u001b[39;00m\n\u001b[1;32m     18\u001b[0m \u001b[38;5;28;01massert\u001b[39;00m est_croissant([\u001b[38;5;241m10\u001b[39m,\u001b[38;5;241m11\u001b[39m,\u001b[38;5;241m12\u001b[39m,\u001b[38;5;241m13\u001b[39m,\u001b[38;5;241m45\u001b[39m])\u001b[38;5;241m==\u001b[39m\u001b[38;5;28;01mTrue\u001b[39;00m\n",
            "\u001b[0;31mAssertionError\u001b[0m: "
          ],
          "output_type": "error"
        }
      ]
    },
    {
      "cell_type": "markdown",
      "source": "**Q3** : Trouvez l'erreur, soit en affichant l'état de certaines variables à des points stratégiques, soit en utilisant l'outil [Python tutor](https://pythontutor.com/python-debugger.html#mode=edit). Quelle est cette erreur ?\n\n",
      "metadata": {
        "id": "kmm8ClwPtLXY"
      }
    },
    {
      "cell_type": "raw",
      "source": "Réponse : le signe est inversé , on est censé avoir  t[i+1] < t[i], et pour la boucle il faut decrementer la taille de la liste de 1 afin de ne pas avoir l'erreur \"index out of range\"  ",
      "metadata": {
        "id": "eIv1-XQdtLXY"
      }
    },
    {
      "cell_type": "markdown",
      "source": "**Q4** : Corrigez alors le code de la fonction et vérifiez que tous les tests sont validés.",
      "metadata": {
        "id": "-L62LB19tLXY"
      }
    },
    {
      "cell_type": "code",
      "source": "def est_croissant(t):\n    \"\"\"\n    Renvoie True si le tableau t est trié dans l'ordre croissant,\n    et False sinon.\n    \"\"\"\n    for i in range(len(t)-1):\n        if t[i+1] < t[i]:\n            return False\n    return True\n\ndef tests_est_croissante():\n    \"\"\"\n    Fonction lançant des tests pour la fonction est_croissante\n    \"\"\"\n    # jeu de tests à écrire ici\n    assert est_croissant([1,2,3,4,5,6])==True \n    assert est_croissant([9,8,5,7,6])== False\n    assert est_croissant([10,11,12,13,45])==True\n    assert est_croissant([-12,-7,0,1,7,2022])==True\n    \ntests_est_croissante()",
      "metadata": {
        "id": "xEmJJbHBtLXZ"
      },
      "execution_count": null,
      "outputs": []
    },
    {
      "cell_type": "markdown",
      "source": "## 🐍 Exercice 8\n\nOn veut écrire une fonction `annee_naissance(prenom, tab)` qui renvoie l'année de naissance de la personne ayant pour prénom `prenom` dans le tableau `tab`, dont les éléments sont des tuples de la forme (prénom, année de naissance, ville de naissance). Si `prenom` n'apparaît pas dans `tab` alors la fonction doit renvoyer `None`.\n\nExemple :\n\n```python\n>>> tab = [('Lucas', 2002, 'Marseille'), ('Élodie', 2003, 'Angers'), ('Marie', 2001, 'Angers'), ('Jade', 2007, 'New York')]\n>>> annee_naissance('Marie', tab)\n2001\n```",
      "metadata": {
        "id": "O8mpgLsYtLXZ"
      }
    },
    {
      "cell_type": "markdown",
      "source": "**Q1** : Proposez une fonction `test_annee_naissance` qui permettra de tester la fonction `annee_naissance` grâce à un jeu de tests bien choisi.",
      "metadata": {
        "id": "qfK5fzOVtLXZ"
      }
    },
    {
      "cell_type": "code",
      "source": "# à vous de jouer !\n\ndef test_anne_naissance():\n    assert annee_naissance('Élodie',tab) == 2003\n    assert annee_naissance('Lucas',tab) == 2002\n    assert annee_naissance('Marie',tab) == 2001\n    assert annee_naissance('Lilian',tab) == None",
      "metadata": {
        "id": "aLZy5wPstLXZ",
        "trusted": true
      },
      "execution_count": 2,
      "outputs": []
    },
    {
      "cell_type": "markdown",
      "source": "**Q2** : Écrivez la fonction `annee_naissance(prenom, tab)` et vérifiez qu'elle passe tous les tests.",
      "metadata": {
        "id": "yXwIQzz8tLXa"
      }
    },
    {
      "cell_type": "code",
      "source": "# à vous de jouer !\ntab = [('Lucas', 2002, 'Marseille'),\n       ('Élodie', 2003, 'Angers'),\n       ('Marie', 2001, 'Angers'),\n       ('Jade', 2007, 'New York')]\n\ndef annee_naissance(prenom,tab):\n    \"\"\"\n    cherche un prénom dans une liste donnée contenant nom prénom et lieu de naissance \n    et retourne l'année de naissance de la personne recherchée si elle est dans la liste \n    \"\"\"\n    for i in range(len(tab)):\n        if tab[i][0] == prenom:\n            return tab[i][1]\n    return None\n        \ntest_anne_naissance()",
      "metadata": {
        "id": "Vfh9M-uHtLXa",
        "trusted": true
      },
      "execution_count": 6,
      "outputs": []
    },
    {
      "cell_type": "markdown",
      "source": "## 🐍 Exercice 9\n\nOn veut écrire une fonction `meilleure_note` qui prend en paramètre un dictionnaire `resultats` dans lequel les clés sont des prénoms d'élèves et leurs valeurs associées sont des notes à un devoir, et qui renvoie la meilleure note à ce devoir.\n\nExemple :\n\n```python\n>>> meilleure_note({'Marie': 15, 'Laurent': 12, 'Julie': 18, 'Antoine': 17})\n18\n```\n\n**Q1** : Écrivez la chaîne de documentation de cette fonction `meilleure_note` pour y intégrer directement les tests.",
      "metadata": {
        "id": "fFzA0QTstLXa"
      }
    },
    {
      "cell_type": "code",
      "source": "# à vous de jouer !\ndef meilleure_note(resultats):\n    \"\"\"\n    chercher dans un dictionnaire ou se trouvent des notes d'eleves a un devoir la meilleure note du devoir  \n    \n    >>> meilleure_note({'Marie': 15, 'Laurent': 12, 'Julie': 18, 'Antoine': 17})\n    18\n    \n    >>> meilleure_note({'Marie': 15, 'Laurent': 18 , 'Julie': 20, 'Antoine': 17, 'Lilian':21 })\n    21\n    \n    >>> meilleure_note({'Marie': 15, 'Laurent': 18 ,'Lilian':21, 'Julie': 20, 'Antoine': 17 ,'Abraham':23})\n    18 \n    \"\"\"\n    ",
      "metadata": {
        "id": "qXHTCkxUtLXa",
        "trusted": true
      },
      "execution_count": 7,
      "outputs": []
    },
    {
      "cell_type": "markdown",
      "source": "**Q2** : Écrivez le code de cette fonction.\n\n**Q3** : Utilisez le module `doctest` pour vérifier les tests intégrés à la chaîne de documentation. Modifiez la fonction si les tests échouent.",
      "metadata": {
        "id": "OcebVU6dtLXa"
      }
    },
    {
      "cell_type": "code",
      "source": "def meilleure_note(resultats):\n    \"\"\"\n    chercher dans un dictionnaire ou se trouvent des notes d'eleves a un devoir la meilleure note du devoir  \n    \"\"\"\n    max_note = None\n    \n    for note in resultats.values():\n        #s'assurer que max_note n'est pas encore définie ou si la note actuelle est plus grande \n        if max_note is None or note > max_note:\n            max_note = note \n    return max_note\n    \nmeilleure_note({'Marie': 15, 'Laurent': 12, 'Julie': 18, 'Antoine': 17})",
      "metadata": {
        "id": "1toYlgoAtLXb",
        "trusted": true
      },
      "execution_count": 9,
      "outputs": [
        {
          "execution_count": 9,
          "output_type": "execute_result",
          "data": {
            "text/plain": "18"
          },
          "metadata": {}
        }
      ]
    },
    {
      "cell_type": "markdown",
      "source": "---\n\n**Références :**\n- Documents ressources du DIU EIL Nantes, C. DECLERCQ.\n- Numérique et Sciences Informatiques, 1re, T. BALABONSKI, S. CONCHON, J.-C. FILLIATRE, K. NGUYEN, éditions ELLIPSES : [Site du livre](https://www.nsi-premiere.fr/)\n-Germain BECKER & Sébastien POINT, Lycée Mounier, ANGERS",
      "metadata": {
        "id": "5O7H9-ektLXb"
      }
    },
    {
      "cell_type": "markdown",
      "source": "| <span style='color:Blue'> L.H & E.S |  | |   | |     |<span style='color:Blue'> NSI Terminale | |   | ||<span style='color:Blue'> Lycée Ozanam (Lille)|\n| --- | --- |--- |--- |--- |--- | --- | --- |--- |--- | --- | --- |",
      "metadata": {
        "id": "3AMQDjOf4CpJ"
      }
    }
  ]
}