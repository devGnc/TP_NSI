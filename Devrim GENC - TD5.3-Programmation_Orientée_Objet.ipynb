{
  "metadata": {
    "colab": {
      "provenance": []
    },
    "kernelspec": {
      "name": "python",
      "display_name": "Python (Pyodide)",
      "language": "python"
    },
    "language_info": {
      "codemirror_mode": {
        "name": "python",
        "version": 3
      },
      "file_extension": ".py",
      "mimetype": "text/x-python",
      "name": "python",
      "nbconvert_exporter": "python",
      "pygments_lexer": "ipython3",
      "version": "3.8"
    }
  },
  "nbformat_minor": 5,
  "nbformat": 4,
  "cells": [
    {
      "cell_type": "markdown",
      "source": "---",
      "metadata": {},
      "id": "ed0a8088"
    },
    {
      "cell_type": "markdown",
      "source": " <p align =center> <img src=\"https://github.com/esabahi/NSI_Images/blob/main/NSI-Image.png?raw=true\" width=350>\n    </p>",
      "metadata": {},
      "id": "b88a1932"
    },
    {
      "cell_type": "markdown",
      "source": "# TD5.3 - Programmation_Orientée_Objet\n\n\n****************************************\n\n",
      "metadata": {
        "id": "W84lcE_dziVB"
      },
      "id": "W84lcE_dziVB"
    },
    {
      "cell_type": "markdown",
      "source": "Exercice 1:",
      "metadata": {},
      "id": "f083c0e8"
    },
    {
      "cell_type": "markdown",
      "source": "Votre réponse:\n\n---------\n<font color='green'>ici.....</font>\n",
      "metadata": {
        "id": "1c703444"
      },
      "id": "1c703444"
    },
    {
      "cell_type": "code",
      "source": "class Film:\n    def __init__(self,titre,realisateur):\n        self.titre= titre\n        self.realisateur = realisateur\n        \n    def get_titre(self):\n        return self.titre \n    def set_titre(self):\n        self.titre = titre\n    \n    def get_realisateur(self):\n        return self.realisateur \n    def set_realisateur(self):\n        self.realisateur = realisateur \n\nclass Personne:\n    def __init__(self,nom, annee_naissance,lieu_naissance):\n        self.nom = nom\n        self.annee_naissance= annee_naissance\n        self.lieu_naissance= lieu_naissance\n        \n    \n    def get_nom(self):\n        return self.nom \n    def set_nom(self):\n        self.nom = nom \n    \n    def get_annee_naissance(self):\n        return self.annee_naissance\n    def set_annee_naissance(self):\n        self.annee_naissance = annee_naissance \n    \n    def get_lieu_naissance(self):\n        return self.lieu_naissance \n    def set_lieu_naissance(self):\n        self.lieu_naissance = lieu_naissance \n    \nfilm = Film('NSI , le film','Devrim')  \nacteur = Personne('lilian',2006,'lille')\nrealisateur = Personne('Devrim',2006,'Croix')\n\nprint(realisateur.annee_naissance)",
      "metadata": {
        "vscode": {
          "languageId": "plaintext"
        },
        "trusted": true
      },
      "execution_count": 15,
      "outputs": [
        {
          "name": "stdout",
          "text": "2006\n",
          "output_type": "stream"
        }
      ],
      "id": "8c5f9934"
    },
    {
      "cell_type": "markdown",
      "source": "Exercice 2:",
      "metadata": {},
      "id": "260c6300"
    },
    {
      "cell_type": "markdown",
      "source": "Votre réponse:\n\n---------\n<font color='green'>ici.....</font>\n",
      "metadata": {},
      "id": "a8a8886a"
    },
    {
      "cell_type": "code",
      "source": "class Adresse:\n    \n    def __init__(self,rue,ville,code_postal):\n        self.rue= rue\n        self.ville= ville \n        self.code_postal = code_postal\n        \n    def get_rue(self):\n        return self.rue\n    \n    def set_rue(self):\n        self.rue = rue \n    \n    \n    def get_ville(self):\n        return self.ville\n    \n    def set_ville(self):\n        self.ville = ville\n    \n    \n    def get_code_postal(self):\n        return self.code_postal\n    \n    def set_code_postal(self):\n        self.code_postal = code_postal\n    \n\nclass Personne:\n    \n    def __init__(self,nom,sexe,adresses):\n        self.nom = nom\n        self.sexe= sexe \n        self.adresses = []\n        \n    def get_nom(self):\n        return self.nom\n    \n    def set_nom(self):\n        self.nom = nom\n        \n    def get_sexe(self):\n        if self.sexe == \"F\" or self.sexe == \"M\":\n            return self.sexe  \n        else: \n            return False \n        \n    def set_sexe(self):\n        self.sexe = sexe \n    \n    def get_adresses(self):\n        return self.adresses \n    \n    def set_adresses(self):\n        self.adresses = adresses \n        \n \n\nclass ListePersonnes:\n     \n        def __init__(self,personnes):\n            self.personnes = []\n            \n        def get_personne(self):\n            return self.personnes \n        \n        def set_personne(self,personne:Personne):\n            self.personnes.append(personne)\n            \n            \n        def find_by_nom(s:str):\n            for personne in self.personnes:\n                if personne.get_nom() == s:\n                    return personne\n            return None\n            \n        def exists_code_postal(self, cp: str):\n            for personne in self.personnes:\n                for adresse in personne.get_adresses():\n                    if adresse.get_code_postal() == cp:\n                        return True\n            return False    \n        \n        def count_personne_ville(ville:str):\n            compteur = 0\n            for personne in self.personnes:\n                for adresse in personne.get_adresses():\n                    if adresse.get_ville() == ville:\n                        compteur = compteur + 1\n            return compteur\n        \n        def edit_personne_nom(self, oldNom: str, newNom: str):\n            for personne in self.personnes:\n                if personne.getnom() == oldNom:\n                    personne.setnom(newNom)\n        \n        def edit_personne_nom(self, oldVille: str, newVille: str):\n            for personne in self.personnes:\n                if personne.getnom() == oldVille:\n                    personne.setnom(newVille)\n            ",
      "metadata": {
        "vscode": {
          "languageId": "plaintext"
        },
        "trusted": true
      },
      "execution_count": 5,
      "outputs": [],
      "id": "864a091e-ba81-42d6-bdd5-943dd750a4ce"
    },
    {
      "cell_type": "code",
      "source": "",
      "metadata": {},
      "execution_count": null,
      "outputs": [],
      "id": "2599df24-46a8-41c9-9905-e4bccf7292ff"
    }
  ]
}