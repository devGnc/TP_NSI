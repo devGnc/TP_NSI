{
  "metadata": {
    "colab": {
      "provenance": []
    },
    "kernelspec": {
      "name": "python",
      "display_name": "Python (Pyodide)",
      "language": "python"
    },
    "language_info": {
      "codemirror_mode": {
        "name": "python",
        "version": 3
      },
      "file_extension": ".py",
      "mimetype": "text/x-python",
      "name": "python",
      "nbconvert_exporter": "python",
      "pygments_lexer": "ipython3",
      "version": "3.8"
    }
  },
  "nbformat_minor": 5,
  "nbformat": 4,
  "cells": [
    {
      "cell_type": "markdown",
      "source": "---",
      "metadata": {},
      "id": "ed0a8088"
    },
    {
      "cell_type": "markdown",
      "source": " <p align =center> <img src=\"https://github.com/esabahi/NSI_Images/blob/main/NSI-Image.png?raw=true\" width=350>\n    </p>",
      "metadata": {},
      "id": "b88a1932"
    },
    {
      "cell_type": "markdown",
      "source": "# TD5.3 - Programmation_Orientée_Objet\n\n\n****************************************\n\n",
      "metadata": {
        "id": "W84lcE_dziVB"
      },
      "id": "W84lcE_dziVB"
    },
    {
      "cell_type": "markdown",
      "source": "Exercice 1:",
      "metadata": {},
      "id": "f083c0e8"
    },
    {
      "cell_type": "markdown",
      "source": "Votre réponse:\n\n---------\n<font color='green'>ici.....</font>\n",
      "metadata": {
        "id": "1c703444"
      },
      "id": "1c703444"
    },
    {
      "cell_type": "code",
      "source": "",
      "metadata": {
        "vscode": {
          "languageId": "plaintext"
        }
      },
      "execution_count": null,
      "outputs": [],
      "id": "8c5f9934"
    },
    {
      "cell_type": "markdown",
      "source": "Exercice 2:",
      "metadata": {},
      "id": "260c6300"
    },
    {
      "cell_type": "markdown",
      "source": "Votre réponse:\n\n---------\n<font color='green'>ici.....</font>\n",
      "metadata": {},
      "id": "a8a8886a"
    },
    {
      "cell_type": "code",
      "source": "",
      "metadata": {
        "vscode": {
          "languageId": "plaintext"
        }
      },
      "execution_count": null,
      "outputs": [],
      "id": "0c4d13fa"
    }
  ]
}